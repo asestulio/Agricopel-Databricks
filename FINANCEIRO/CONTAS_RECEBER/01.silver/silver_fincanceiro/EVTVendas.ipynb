{
 "cells": [
  {
   "cell_type": "markdown",
   "metadata": {
    "application/vnd.databricks.v1+cell": {
     "cellMetadata": {
      "byteLimit": 2048000,
      "rowLimit": 10000
     },
     "inputWidgets": {},
     "nuid": "cf81e00a-9565-418c-ba2d-4dd305435ed1",
     "showTitle": false,
     "tableResultSettingsMap": {},
     "title": ""
    }
   },
   "source": [
    "## Informações Gerais\n",
    " | Informações | Detalhes |\n",
    " |------------|-------------|\n",
    " |Nome Tabela | silver.vendas |\n",
    " |Origem | Bronze Azure  |\n",
    "\n",
    "## Histórico de Atualizações\n",
    " | Data | Desenvolvido por | Motivo |\n",
    " |:----:|--------------|--------|\n",
    " |20/07/2025 | Tulio Augusto  | Criação do notebook |\n",
    " |20/07/2025 | Tulio Augusto  | Inclusão coluna valor |"
   ]
  },
  {
   "cell_type": "code",
   "execution_count": 0,
   "metadata": {
    "application/vnd.databricks.v1+cell": {
     "cellMetadata": {
      "byteLimit": 2048000,
      "rowLimit": 10000
     },
     "inputWidgets": {},
     "nuid": "f359eafa-a963-476b-9b98-fa6529f5140f",
     "showTitle": false,
     "tableResultSettingsMap": {},
     "title": ""
    }
   },
   "outputs": [],
   "source": [
    "%run /Workspace/Repos/AGRICOPEL/Agricopel-Databricks/FINANCEIRO/CONTAS_RECEBER/00.global/functions"
   ]
  },
  {
   "cell_type": "code",
   "execution_count": 0,
   "metadata": {
    "application/vnd.databricks.v1+cell": {
     "cellMetadata": {
      "byteLimit": 2048000,
      "rowLimit": 10000
     },
     "inputWidgets": {},
     "nuid": "d72ee2e9-1ddf-40a9-8985-064f6e0d0961",
     "showTitle": false,
     "tableResultSettingsMap": {},
     "title": ""
    }
   },
   "outputs": [],
   "source": [
    "from pyspark.sql.functions import current_date, current_timestamp, expr\n",
    "from pyspark.sql.functions import monotonically_increasing_id\n"
   ]
  },
  {
   "cell_type": "code",
   "execution_count": 0,
   "metadata": {
    "application/vnd.databricks.v1+cell": {
     "cellMetadata": {
      "byteLimit": 2048000,
      "rowLimit": 10000
     },
     "inputWidgets": {},
     "nuid": "ad6eb9be-3ece-4316-b7bc-0c3e3cbdbc4e",
     "showTitle": false,
     "tableResultSettingsMap": {},
     "title": ""
    }
   },
   "outputs": [],
   "source": [
    "df_vendas = spark.read.parquet(\"abfss://bronze@storageagrucopel.dfs.core.windows.net/vendas\")"
   ]
  },
  {
   "cell_type": "code",
   "execution_count": 0,
   "metadata": {
    "application/vnd.databricks.v1+cell": {
     "cellMetadata": {
      "byteLimit": 2048000,
      "rowLimit": 10000
     },
     "inputWidgets": {},
     "nuid": "54cb6a9a-0328-4ee5-949d-768b7ec476b2",
     "showTitle": false,
     "tableResultSettingsMap": {},
     "title": ""
    }
   },
   "outputs": [],
   "source": [
    "database = \"silver.financeiro\"\n",
    "tabela = \"vendas\""
   ]
  },
  {
   "cell_type": "code",
   "execution_count": 0,
   "metadata": {
    "application/vnd.databricks.v1+cell": {
     "cellMetadata": {
      "byteLimit": 2048000,
      "rowLimit": 10000
     },
     "inputWidgets": {},
     "nuid": "a27ffa9f-6a22-41c5-af02-bbae0a878203",
     "showTitle": false,
     "tableResultSettingsMap": {},
     "title": ""
    }
   },
   "outputs": [],
   "source": [
    "df_vendas.createOrReplaceTempView(\"vw_dados\")"
   ]
  },
  {
   "cell_type": "code",
   "execution_count": 0,
   "metadata": {
    "application/vnd.databricks.v1+cell": {
     "cellMetadata": {
      "byteLimit": 2048000,
      "rowLimit": 10000
     },
     "inputWidgets": {},
     "nuid": "913b3d87-6c40-4ff2-b0e4-7d48b08ea5f8",
     "showTitle": false,
     "tableResultSettingsMap": {},
     "title": ""
    }
   },
   "outputs": [],
   "source": [
    "df_vendas = spark.sql(\"\"\"\n",
    "    select\n",
    "        distinct\n",
    "        produto as nm_produto,\n",
    "        p.nr_preco_unitario,\n",
    "        pais as nm_pais,\n",
    "        c.nm_tipo_cliente,\n",
    "        cast(quantidade as decimal(10,2)) as nr_quantidade,\n",
    "        cast(trim(replace(replace(replace(valor_total, \"R$ \",\"\"), \".\", \"\"),\",\",\".\")) as decimal(10,2)) as nr_valor_total,\n",
    "        to_date(data_venda, \"dd/MM/yyyy\") as dt_data_venda,\n",
    "        mes as nm_mes,\n",
    "        cast(ano as int) as nr_ano,\n",
    "        caminho_arquivo as nm_caminho_arquivo,\n",
    "        current_timestamp() as dt_data_extracao\n",
    "    from vw_dados \n",
    "    inner join silver.sistema_cadastros.clientes c on vw_dados.pais = c.nm_pais\n",
    "    inner join silver.sistema_cadastros.produtos p on vw_dados.produto = p.nm_produto\n",
    "\"\"\")\n",
    "\n",
    "df_vendas = df_vendas.withColumn(\"id_venda\", monotonically_increasing_id())\n"
   ]
  },
  {
   "cell_type": "code",
   "execution_count": 0,
   "metadata": {
    "application/vnd.databricks.v1+cell": {
     "cellMetadata": {
      "byteLimit": 2048000,
      "rowLimit": 10000
     },
     "inputWidgets": {},
     "nuid": "fbed8e4d-0a55-461d-90dd-5ab4d30dd6dd",
     "showTitle": false,
     "tableResultSettingsMap": {},
     "title": ""
    }
   },
   "outputs": [],
   "source": [
    "df_vendas = df_vendas.withColumn(\"data_carga\", current_date())\n",
    "df_vendas = df_vendas.withColumn(\"data_hora_carga\", expr(\"current_timestamp() - INTERVAL 3 HOURS\"))"
   ]
  },
  {
   "cell_type": "code",
   "execution_count": 0,
   "metadata": {
    "application/vnd.databricks.v1+cell": {
     "cellMetadata": {
      "byteLimit": 2048000,
      "rowLimit": 10000
     },
     "inputWidgets": {},
     "nuid": "9444842b-64e3-42f3-a7a3-e96c9ddd1359",
     "showTitle": false,
     "tableResultSettingsMap": {},
     "title": ""
    }
   },
   "outputs": [],
   "source": [
    "comentario_tabela = 'Esta tabela é uma entidade corporativa da área financeira que contém as informações das vendas feitas'\n",
    "\n",
    "lista_comentario_colunas = {\n",
    "'id_venda' : 'Identificador único da venda.',\n",
    "'nm_produto' : 'Nome do produto.',\n",
    "'nr_preco_unitario' :  'Preço do produto por unidade.',\n",
    "'nm_pais' : 'Nome do país.',\n",
    "'nm_tipo_cliente' : 'Nome do tipo de cliente.',\n",
    "'nr_quantidade' : 'Quantidade de produtos vendidos.',\n",
    "'nr_valor_total' : 'Valor total da venda',\n",
    "'dt_data_venda' : 'Data da venda.',\n",
    "'nm_mes' : 'Nome do mês da venda.',\n",
    "'nr_ano' : 'Ano da venda.',\n",
    "'nm_caminho_arquivo' : 'Caminho do arquivo que contém os dados',\n",
    "'dt_data_extracao' : 'data extração bronze.',\n",
    "'data_carga' : 'Data que o registro foi carregado',\n",
    "'data_hora_carga' : 'Data e hora que o registro foi carregado'\n",
    "}"
   ]
  },
  {
   "cell_type": "code",
   "execution_count": 0,
   "metadata": {
    "application/vnd.databricks.v1+cell": {
     "cellMetadata": {
      "byteLimit": 2048000,
      "rowLimit": 10000
     },
     "inputWidgets": {},
     "nuid": "502a8f09-9047-4eed-b2aa-0ee5a4530cde",
     "showTitle": false,
     "tableResultSettingsMap": {},
     "title": ""
    }
   },
   "outputs": [],
   "source": [
    "df_vendas.write \\\n",
    "          .format('delta') \\\n",
    "          .mode('overwrite') \\\n",
    "          .clusterBy(\"id_venda\") \\\n",
    "          .option('overwriteSchema', 'true') \\\n",
    "          .saveAsTable(f'{database}.{tabela}')\n",
    "adicionaComentariosTabela(database, tabela, comentario_tabela, lista_comentario_colunas)\n",
    "print(\"Dados gravados com sucesso!\")"
   ]
  },
  {
   "cell_type": "code",
   "execution_count": 0,
   "metadata": {
    "application/vnd.databricks.v1+cell": {
     "cellMetadata": {
      "byteLimit": 2048000,
      "rowLimit": 10000
     },
     "inputWidgets": {},
     "nuid": "1d6a8470-f121-4dc2-b827-131f3ecd4b07",
     "showTitle": false,
     "tableResultSettingsMap": {},
     "title": ""
    }
   },
   "outputs": [],
   "source": [
    "spark.sql(f\"OPTIMIZE {database}.{tabela}\")\n",
    "print(f\"Processo de otimização finalizado!.\")"
   ]
  },
  {
   "cell_type": "code",
   "execution_count": 0,
   "metadata": {
    "application/vnd.databricks.v1+cell": {
     "cellMetadata": {
      "byteLimit": 2048000,
      "implicitDf": true,
      "rowLimit": 10000
     },
     "inputWidgets": {},
     "nuid": "f7009455-2bfe-4c6c-802c-a363d696259d",
     "showTitle": false,
     "tableResultSettingsMap": {},
     "title": ""
    }
   },
   "outputs": [],
   "source": [
    "%sql\n",
    "select * from silver.financeiro.vendas"
   ]
  }
 ],
 "metadata": {
  "application/vnd.databricks.v1+notebook": {
   "computePreferences": null,
   "dashboards": [],
   "environmentMetadata": {
    "base_environment": "",
    "environment_version": "2"
   },
   "inputWidgetPreferences": null,
   "language": "python",
   "notebookMetadata": {
    "mostRecentlyExecutedCommandWithImplicitDF": {
     "commandId": 6717841991892080,
     "dataframes": [
      "_sqldf"
     ]
    },
    "pythonIndentUnit": 4
   },
   "notebookName": "EVTVendas",
   "widgets": {}
  },
  "language_info": {
   "name": "python"
  }
 },
 "nbformat": 4,
 "nbformat_minor": 0
}
