{
 "cells": [
  {
   "cell_type": "code",
   "execution_count": 0,
   "metadata": {
    "application/vnd.databricks.v1+cell": {
     "cellMetadata": {
      "byteLimit": 2048000,
      "rowLimit": 10000
     },
     "inputWidgets": {},
     "nuid": "eb424b1e-5286-479c-bd4b-00e8674414f0",
     "showTitle": false,
     "tableResultSettingsMap": {},
     "title": ""
    }
   },
   "outputs": [],
   "source": [
    "acess_key = \"iP0lyte/D65Meq4sYCGHf3HN7WJmBn9hZAHPipUsoxTJlK+TfXihqtSKqwajO47JOzVdxU+5YSi2+AStxuPA5g==\""
   ]
  },
  {
   "cell_type": "code",
   "execution_count": 0,
   "metadata": {
    "application/vnd.databricks.v1+cell": {
     "cellMetadata": {
      "byteLimit": 2048000,
      "implicitDf": true,
      "rowLimit": 10000
     },
     "inputWidgets": {},
     "nuid": "db9e8360-5927-4674-ab9a-b4e04061dd8c",
     "showTitle": false,
     "tableResultSettingsMap": {},
     "title": ""
    }
   },
   "outputs": [],
   "source": [
    "%sql \n",
    "CREATE SCHEMA IF NOT EXISTS silver.financeiro"
   ]
  },
  {
   "cell_type": "code",
   "execution_count": 0,
   "metadata": {
    "application/vnd.databricks.v1+cell": {
     "cellMetadata": {
      "byteLimit": 2048000,
      "implicitDf": true,
      "rowLimit": 10000
     },
     "inputWidgets": {},
     "nuid": "3b56a833-51e1-4da0-860e-d7321907a133",
     "showTitle": false,
     "tableResultSettingsMap": {},
     "title": ""
    }
   },
   "outputs": [],
   "source": [
    "%sql \n",
    "CREATE SCHEMA IF NOT EXISTS gold.financeiro"
   ]
  },
  {
   "cell_type": "code",
   "execution_count": 0,
   "metadata": {
    "application/vnd.databricks.v1+cell": {
     "cellMetadata": {
      "byteLimit": 2048000,
      "rowLimit": 10000
     },
     "inputWidgets": {},
     "nuid": "ad8db601-73b5-4779-877f-f0cc82c4bf74",
     "showTitle": false,
     "tableResultSettingsMap": {},
     "title": ""
    }
   },
   "outputs": [],
   "source": [
    "dbutils.secrets.get(scope=\"keybricksagricopel\", key=\"ad-databricks\")"
   ]
  },
  {
   "cell_type": "code",
   "execution_count": 0,
   "metadata": {
    "application/vnd.databricks.v1+cell": {
     "cellMetadata": {
      "byteLimit": 2048000,
      "rowLimit": 10000
     },
     "inputWidgets": {},
     "nuid": "5ddc436e-81f3-4208-94cd-41cf1c78f01e",
     "showTitle": false,
     "tableResultSettingsMap": {},
     "title": ""
    }
   },
   "outputs": [],
   "source": [
    "spark.conf.set(\"fs.azure.account.key.storageagrucopel.dfs.core.windows.net\", acess_key)"
   ]
  },
  {
   "cell_type": "code",
   "execution_count": 0,
   "metadata": {
    "application/vnd.databricks.v1+cell": {
     "cellMetadata": {
      "byteLimit": 2048000,
      "rowLimit": 10000
     },
     "inputWidgets": {},
     "nuid": "adefc5a2-cec9-4847-91fe-1c4edfdffe5e",
     "showTitle": false,
     "tableResultSettingsMap": {},
     "title": ""
    }
   },
   "outputs": [],
   "source": [
    "def create_or_overwrite_delta_table(\n",
    "    p_catalog,\n",
    "    p_dataframe,\n",
    "    p_database: str,\n",
    "    p_table_name: str\n",
    "):\n",
    "    # Salva fisicamente alterações\n",
    "    p_dataframe.createOrReplaceTempView(f\"vw_{p_database}_{p_table_name}\")\n",
    "    \n",
    "    spark.sql(\n",
    "        f\"\"\"\n",
    "        CREATE OR REPLACE TABLE {p_catalog}.{p_database}.{p_table_name}\n",
    "        AS SELECT * FROM vw_{p_database}_{p_table_name}\n",
    "        \"\"\"\n",
    "    )\n",
    "\n",
    "    print(f'Criada a {p_catalog}.{p_database}.{p_table_name}')"
   ]
  },
  {
   "cell_type": "code",
   "execution_count": 0,
   "metadata": {
    "application/vnd.databricks.v1+cell": {
     "cellMetadata": {
      "byteLimit": 2048000,
      "rowLimit": 10000
     },
     "inputWidgets": {},
     "nuid": "29793080-cfa1-4d77-99a6-b4297d82cf76",
     "showTitle": false,
     "tableResultSettingsMap": {},
     "title": ""
    }
   },
   "outputs": [],
   "source": [
    "def adicionaComentariosTabela(a,b,c,d):\n",
    "    spark.sql(f\"COMMENT ON TABLE {a}.{b} IS '{c}'\")\n",
    "    for key,value in d.items():\n",
    "        sqlaux = f\"ALTER TABLE {a}.{b} CHANGE COLUMN {key} COMMENT '{value}'\"\n",
    "        spark.sql(sqlaux)"
   ]
  }
 ],
 "metadata": {
  "application/vnd.databricks.v1+notebook": {
   "computePreferences": null,
   "dashboards": [],
   "environmentMetadata": {
    "base_environment": "",
    "environment_version": "2"
   },
   "inputWidgetPreferences": null,
   "language": "python",
   "notebookMetadata": {
    "mostRecentlyExecutedCommandWithImplicitDF": {
     "commandId": 6717841991892081,
     "dataframes": [
      "_sqldf"
     ]
    },
    "pythonIndentUnit": 4
   },
   "notebookName": "functions",
   "widgets": {}
  },
  "language_info": {
   "name": "python"
  }
 },
 "nbformat": 4,
 "nbformat_minor": 0
}
