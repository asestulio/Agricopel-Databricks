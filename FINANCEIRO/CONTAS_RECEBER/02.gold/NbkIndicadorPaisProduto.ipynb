{
 "cells": [
  {
   "cell_type": "markdown",
   "metadata": {
    "application/vnd.databricks.v1+cell": {
     "cellMetadata": {
      "byteLimit": 2048000,
      "rowLimit": 10000
     },
     "inputWidgets": {},
     "nuid": "983528e5-7d48-48b5-aa96-2b99a16bad2a",
     "showTitle": false,
     "tableResultSettingsMap": {},
     "title": ""
    }
   },
   "source": [
    "## Informações Gerais\n",
    " | Informações | Detalhes |\n",
    " |------------|-------------|\n",
    " |Nome Tabela | gold.IndicadorPaisProduto |\n",
    " |Origem | silver.vendas |\n",
    "\n",
    "## Histórico de Atualizações\n",
    " | Data | Desenvolvido por | Motivo |\n",
    " |:----:|--------------|--------|\n",
    " |16/07/2024 | Patrick Diorio  | Criação do notebook |\n",
    " |20/08/2024 | Patrick Diorio  | inclusão coluna valor |"
   ]
  },
  {
   "cell_type": "code",
   "execution_count": 0,
   "metadata": {
    "application/vnd.databricks.v1+cell": {
     "cellMetadata": {
      "byteLimit": 2048000,
      "rowLimit": 10000
     },
     "inputWidgets": {},
     "nuid": "9f7e1fa9-7b57-4a79-a657-87f3ced1bc27",
     "showTitle": false,
     "tableResultSettingsMap": {},
     "title": ""
    }
   },
   "outputs": [],
   "source": [
    "%run /Workspace/Repos/AGRICOPEL/Agricopel-Databricks/FINANCEIRO/CONTAS_RECEBER/00.global/functions"
   ]
  },
  {
   "cell_type": "code",
   "execution_count": 0,
   "metadata": {
    "application/vnd.databricks.v1+cell": {
     "cellMetadata": {
      "byteLimit": 2048000,
      "rowLimit": 10000
     },
     "inputWidgets": {},
     "nuid": "d4bd7f6b-76d1-4e11-8fdb-3440bf3c588d",
     "showTitle": false,
     "tableResultSettingsMap": {},
     "title": ""
    }
   },
   "outputs": [],
   "source": [
    "from pyspark.sql.functions import current_date, current_timestamp, expr"
   ]
  },
  {
   "cell_type": "code",
   "execution_count": 0,
   "metadata": {
    "application/vnd.databricks.v1+cell": {
     "cellMetadata": {
      "byteLimit": 2048000,
      "rowLimit": 10000
     },
     "inputWidgets": {},
     "nuid": "8bb7d5f5-05a3-42fc-8eb6-5bdb63e5459c",
     "showTitle": false,
     "tableResultSettingsMap": {},
     "title": ""
    }
   },
   "outputs": [],
   "source": [
    "database = \"gold.financeiro\"\n",
    "tabela = \"IndicadorTipoCliente\""
   ]
  },
  {
   "cell_type": "code",
   "execution_count": 0,
   "metadata": {
    "application/vnd.databricks.v1+cell": {
     "cellMetadata": {
      "byteLimit": 2048000,
      "rowLimit": 10000
     },
     "inputWidgets": {},
     "nuid": "c547c364-98eb-4322-9493-ea50e6885df4",
     "showTitle": false,
     "tableResultSettingsMap": {},
     "title": ""
    }
   },
   "outputs": [],
   "source": [
    "dfPaisProduto = spark.sql(\"\"\"\n",
    "    select\n",
    "        nm_pais,\n",
    "        nm_produto,\n",
    "        sum(nr_valor_total) as nr_valor_total,\n",
    "        current_timestamp() as dt_data_extracao\n",
    "    from silver.sistema_vendas.vendas\n",
    "    group by all\n",
    "\"\"\")"
   ]
  },
  {
   "cell_type": "code",
   "execution_count": 0,
   "metadata": {
    "application/vnd.databricks.v1+cell": {
     "cellMetadata": {
      "byteLimit": 2048000,
      "rowLimit": 10000
     },
     "inputWidgets": {},
     "nuid": "38e95d6b-ae87-4ffe-b5b4-b5818a765d7a",
     "showTitle": false,
     "tableResultSettingsMap": {},
     "title": ""
    }
   },
   "outputs": [],
   "source": [
    "dfPaisProduto = dfPaisProduto.withColumn(\"data_carga\", current_date())\n",
    "dfPaisProduto = dfPaisProduto.withColumn(\"data_hora_carga\", expr(\"current_timestamp() - INTERVAL 3 HOURS\"))"
   ]
  },
  {
   "cell_type": "code",
   "execution_count": 0,
   "metadata": {
    "application/vnd.databricks.v1+cell": {
     "cellMetadata": {
      "byteLimit": 2048000,
      "rowLimit": 10000
     },
     "inputWidgets": {},
     "nuid": "70e13ea5-3e8c-457e-bbcf-f41b7db9e18c",
     "showTitle": false,
     "tableResultSettingsMap": {},
     "title": ""
    }
   },
   "outputs": [],
   "source": [
    "comentario_tabela = 'Este é um indicador para a área financeira contendo a quantidade e total de vendas por tipo de cliente'\n",
    "\n",
    "lista_comentario_colunas = {\n",
    "'nm_pais' :  'Nome do país.',\n",
    "'nm_produto' : 'Nome do produto.',\n",
    "'nr_valor_total' : 'Valo total da venda.',\n",
    "'dt_data_extracao' : 'data extração bronze.',\n",
    "'data_carga' : 'Data que o registro foi carregado',\n",
    "'data_hora_carga' : 'Data e hora que o registro foi carregado'\n",
    "}"
   ]
  },
  {
   "cell_type": "code",
   "execution_count": 0,
   "metadata": {
    "application/vnd.databricks.v1+cell": {
     "cellMetadata": {
      "byteLimit": 2048000,
      "rowLimit": 10000
     },
     "inputWidgets": {},
     "nuid": "15361007-ab4d-423c-b8c8-e42b5530b7f2",
     "showTitle": false,
     "tableResultSettingsMap": {},
     "title": ""
    }
   },
   "outputs": [],
   "source": [
    "dfPaisProduto.write \\\n",
    "          .format('delta') \\\n",
    "          .mode('overwrite') \\\n",
    "          .option('overwriteSchema', 'true') \\\n",
    "          .saveAsTable(f'{database}.{tabela}')\n",
    "adicionaComentariosTabela(database, tabela, comentario_tabela, lista_comentario_colunas)\n",
    "print(\"Dados gravados com sucesso!\")"
   ]
  },
  {
   "cell_type": "code",
   "execution_count": 0,
   "metadata": {
    "application/vnd.databricks.v1+cell": {
     "cellMetadata": {
      "byteLimit": 2048000,
      "rowLimit": 10000
     },
     "inputWidgets": {},
     "nuid": "f7a016a8-8dfa-4237-9988-6eae4705d6df",
     "showTitle": false,
     "tableResultSettingsMap": {},
     "title": ""
    }
   },
   "outputs": [],
   "source": [
    "spark.sql(f\"OPTIMIZE {database}.{tabela}\")\n",
    "print(f\"Processo de otimização finalizado!.\")"
   ]
  }
 ],
 "metadata": {
  "application/vnd.databricks.v1+notebook": {
   "computePreferences": null,
   "dashboards": [],
   "environmentMetadata": {
    "base_environment": "",
    "environment_version": "2"
   },
   "inputWidgetPreferences": null,
   "language": "python",
   "notebookMetadata": {
    "mostRecentlyExecutedCommandWithImplicitDF": {
     "commandId": 6717841991892109,
     "dataframes": [
      "_sqldf"
     ]
    },
    "pythonIndentUnit": 4
   },
   "notebookName": "NbkIndicadorPaisProduto",
   "widgets": {}
  },
  "language_info": {
   "name": "python"
  }
 },
 "nbformat": 4,
 "nbformat_minor": 0
}
